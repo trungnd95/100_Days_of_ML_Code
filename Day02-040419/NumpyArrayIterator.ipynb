{
 "cells": [
  {
   "cell_type": "markdown",
   "metadata": {},
   "source": [
    "# Iterating array"
   ]
  },
  {
   "cell_type": "code",
   "execution_count": 3,
   "metadata": {},
   "outputs": [
    {
     "name": "stdout",
     "output_type": "stream",
     "text": [
      "1\n",
      "2\n",
      "3\n",
      "4\n",
      "5\n",
      "6\n",
      "7\n",
      "8\n",
      "9\n"
     ]
    }
   ],
   "source": [
    "import numpy as np\n",
    "ar = np.arange(1, 10)\n",
    "for i in np.nditer(ar): \n",
    "    print(i)"
   ]
  },
  {
   "cell_type": "code",
   "execution_count": 5,
   "metadata": {},
   "outputs": [
    {
     "name": "stdout",
     "output_type": "stream",
     "text": [
      "0.8465297312698207\n",
      "0.24664537727157387\n",
      "0.709433309405496\n",
      "0.1779464749941272\n",
      "0.0022347640486312104\n",
      "0.13754896968009\n"
     ]
    }
   ],
   "source": [
    "ar2 = np.random.random((2, 3))\n",
    "for j in np.nditer(ar2):\n",
    "    print(j)"
   ]
  },
  {
   "cell_type": "markdown",
   "metadata": {},
   "source": [
    "#### Change array values while iterating"
   ]
  },
  {
   "cell_type": "code",
   "execution_count": 10,
   "metadata": {},
   "outputs": [
    {
     "name": "stdout",
     "output_type": "stream",
     "text": [
      "[2 4 6 8]\n"
     ]
    }
   ],
   "source": [
    "ar3 = np.arange(1, 5)\n",
    "for i in np.nditer(ar3, op_flags=[\"readwrite\"]):\n",
    "    i[...] = i * 2\n",
    "print(ar3)"
   ]
  },
  {
   "cell_type": "code",
   "execution_count": 13,
   "metadata": {},
   "outputs": [
    {
     "name": "stdout",
     "output_type": "stream",
     "text": [
      "[[0.43184164 0.22774198]\n",
      " [0.76628481 0.41102846]]\n",
      "[0.43184164 0.76628481]\n",
      "[0.22774198 0.41102846]\n"
     ]
    }
   ],
   "source": [
    "float_2D = np.random.random((2, 2))\n",
    "print(float_2D)\n",
    "for x in np.nditer(float_2D, flags = ['external_loop'], order = 'F'):\n",
    "   print(x)"
   ]
  },
  {
   "cell_type": "code",
   "execution_count": 15,
   "metadata": {},
   "outputs": [
    {
     "name": "stdout",
     "output_type": "stream",
     "text": [
      "[0.43184164 0.22774198 0.76628481 0.41102846]\n"
     ]
    }
   ],
   "source": [
    "for x in np.nditer(float_2D, flags = ['external_loop'], order = 'C'):\n",
    "   print(x)"
   ]
  },
  {
   "cell_type": "code",
   "execution_count": null,
   "metadata": {},
   "outputs": [],
   "source": []
  }
 ],
 "metadata": {
  "kernelspec": {
   "display_name": "Python 3",
   "language": "python",
   "name": "python3"
  },
  "language_info": {
   "codemirror_mode": {
    "name": "ipython",
    "version": 3
   },
   "file_extension": ".py",
   "mimetype": "text/x-python",
   "name": "python",
   "nbconvert_exporter": "python",
   "pygments_lexer": "ipython3",
   "version": "3.7.1"
  }
 },
 "nbformat": 4,
 "nbformat_minor": 2
}
