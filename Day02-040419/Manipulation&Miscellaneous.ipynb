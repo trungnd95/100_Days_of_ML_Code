{
 "cells": [
  {
   "cell_type": "markdown",
   "metadata": {},
   "source": [
    "# Manipulation and miscellaneous"
   ]
  },
  {
   "cell_type": "markdown",
   "metadata": {},
   "source": [
    "### Reshape"
   ]
  },
  {
   "cell_type": "code",
   "execution_count": 1,
   "metadata": {},
   "outputs": [
    {
     "name": "stdout",
     "output_type": "stream",
     "text": [
      "(2, 4)\n",
      "[[[1 2]\n",
      "  [3 4]]\n",
      "\n",
      " [[5 6]\n",
      "  [7 8]]]\n"
     ]
    }
   ],
   "source": [
    "import numpy as np\n",
    "\n",
    "np_2D = np.array([[1,2,3,4], [5, 6, 7, 8]])\n",
    "print(np_2D.shape)\n",
    "\n",
    "#-> reshape to 3D\n",
    "np_3D = np_2D.reshape(2, 2, 2)\n",
    "print(np_3D)"
   ]
  },
  {
   "cell_type": "markdown",
   "metadata": {},
   "source": [
    "### Flatten"
   ]
  },
  {
   "cell_type": "code",
   "execution_count": 2,
   "metadata": {},
   "outputs": [
    {
     "name": "stdout",
     "output_type": "stream",
     "text": [
      "[[[ 0.7859413   0.98782937]\n",
      "  [ 0.95983031  0.21777537]]\n",
      "\n",
      " [[ 0.97532131  0.89534127]\n",
      "  [ 0.48024414  0.62967651]]]\n",
      "[ 0.7859413   0.98782937  0.95983031  0.21777537  0.97532131  0.89534127\n",
      "  0.48024414  0.62967651]\n"
     ]
    }
   ],
   "source": [
    "un_flatten = np.random.random((2, 2, 2))\n",
    "print(un_flatten)\n",
    "\n",
    "#-> flattern array\n",
    "flatten = un_flatten.flatten()\n",
    "print(flatten)"
   ]
  },
  {
   "cell_type": "markdown",
   "metadata": {},
   "source": [
    "### Datatypes"
   ]
  },
  {
   "cell_type": "markdown",
   "metadata": {},
   "source": [
    "- np.int64 : signed 64-bit integer types\n",
    "- np.float32: standard double-precision floating point\n",
    "- np.complex: complex numbers represented by 128 floats\n",
    "- np.bool : Boolean type storing TRUE / FALSE\n",
    "- np.object: Python object type\n",
    "- np.string_ : Fixed length string type\n",
    "- np.unicode_"
   ]
  },
  {
   "cell_type": "markdown",
   "metadata": {},
   "source": [
    "### Inspecting"
   ]
  },
  {
   "cell_type": "code",
   "execution_count": 4,
   "metadata": {},
   "outputs": [
    {
     "data": {
      "text/plain": [
       "dtype('int64')"
      ]
     },
     "execution_count": 4,
     "metadata": {},
     "output_type": "execute_result"
    }
   ],
   "source": [
    "a = np.array([[1, 2], [3, 4]])\n",
    "a.shape # array dimensions\n",
    "len(a) # length of array\n",
    "a.ndim # number of array dimensions\n",
    "a.size # number of array elements\n",
    "a.dtype # datatype of array elements\n"
   ]
  },
  {
   "cell_type": "markdown",
   "metadata": {},
   "source": [
    "### Aggregate functions"
   ]
  },
  {
   "cell_type": "code",
   "execution_count": 6,
   "metadata": {},
   "outputs": [
    {
     "data": {
      "text/plain": [
       "2.5"
      ]
     },
     "execution_count": 6,
     "metadata": {},
     "output_type": "execute_result"
    }
   ],
   "source": [
    "a.sum() # array-wise sum\n",
    "a.min() # array-wise minimum value\n",
    "a.max(axis=0) # maximum value of an array row\n",
    "a.mean() # mean"
   ]
  },
  {
   "cell_type": "markdown",
   "metadata": {},
   "source": [
    "### Copying arrays"
   ]
  },
  {
   "cell_type": "code",
   "execution_count": 7,
   "metadata": {
    "collapsed": true
   },
   "outputs": [],
   "source": [
    "h = np.copy(a)\n",
    "h = a.copy()"
   ]
  },
  {
   "cell_type": "code",
   "execution_count": null,
   "metadata": {
    "collapsed": true
   },
   "outputs": [],
   "source": []
  }
 ],
 "metadata": {
  "kernelspec": {
   "display_name": "Python 3",
   "language": "python",
   "name": "python3"
  },
  "language_info": {
   "codemirror_mode": {
    "name": "ipython",
    "version": 3
   },
   "file_extension": ".py",
   "mimetype": "text/x-python",
   "name": "python",
   "nbconvert_exporter": "python",
   "pygments_lexer": "ipython3",
   "version": "3.6.3"
  }
 },
 "nbformat": 4,
 "nbformat_minor": 2
}
