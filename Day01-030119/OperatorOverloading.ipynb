{
 "cells": [
  {
   "cell_type": "markdown",
   "metadata": {},
   "source": [
    "# Operator Overloading"
   ]
  },
  {
   "cell_type": "markdown",
   "metadata": {},
   "source": [
    "### Operator overloading functions"
   ]
  },
  {
   "cell_type": "markdown",
   "metadata": {},
   "source": [
    "- '+' : __add__ (It means p1 + p2 ~~ p1.__add__(p2) )\n",
    "- '-' : __sub__\n",
    "- '*' : __mul__\n",
    "- '/' : __truediv__\n",
    "- '//' : __floordiv__\n",
    "- '%' : __mod__\n",
    "- '>>' : __rshift__\n",
    "\n",
    "[And more](https://www.programiz.com/python-programming/operator-overloading)"
   ]
  },
  {
   "cell_type": "code",
   "execution_count": 1,
   "metadata": {},
   "outputs": [
    {
     "name": "stdout",
     "output_type": "stream",
     "text": [
      "<__main__.Point object at 0x7f5868483a90>\n"
     ]
    }
   ],
   "source": [
    "# Example:\n",
    "\n",
    "class Point:\n",
    "    def __init__(self, x, y):\n",
    "        self.__x = x\n",
    "        self.__y = y\n",
    "    def __add__(self, other):\n",
    "        return Point(self.__x + other.__x, self.__y + other.__y)\n",
    "p1 = Point(1, 2)\n",
    "p2 = Point(2, 3)\n",
    "print(p1+p2)\n",
    "    "
   ]
  },
  {
   "cell_type": "markdown",
   "metadata": {},
   "source": [
    "### Comparision Operator Overloading "
   ]
  },
  {
   "cell_type": "markdown",
   "metadata": {},
   "source": [
    "- '>' : __gt__\n",
    "- '<  : __lt__\n",
    "- '==' : __eq__\n",
    "- '!=' : __ne__\n",
    "- '>=' : __ge__\n",
    "- '<=' : __le__"
   ]
  },
  {
   "cell_type": "code",
   "execution_count": null,
   "metadata": {},
   "outputs": [],
   "source": []
  }
 ],
 "metadata": {
  "kernelspec": {
   "display_name": "Python 3",
   "language": "python",
   "name": "python3"
  },
  "language_info": {
   "codemirror_mode": {
    "name": "ipython",
    "version": 3
   },
   "file_extension": ".py",
   "mimetype": "text/x-python",
   "name": "python",
   "nbconvert_exporter": "python",
   "pygments_lexer": "ipython3",
   "version": "3.7.1"
  }
 },
 "nbformat": 4,
 "nbformat_minor": 2
}
