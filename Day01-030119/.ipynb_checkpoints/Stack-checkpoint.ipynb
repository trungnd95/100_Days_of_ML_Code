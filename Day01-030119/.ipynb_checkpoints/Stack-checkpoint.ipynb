{
 "cells": [
  {
   "cell_type": "markdown",
   "metadata": {},
   "source": [
    "# Stack "
   ]
  },
  {
   "cell_type": "markdown",
   "metadata": {},
   "source": [
    "> Stack operation follow by LIFO (Last In First Out) mechanism"
   ]
  },
  {
   "cell_type": "markdown",
   "metadata": {},
   "source": [
    "#### 1. Stack class definition"
   ]
  },
  {
   "cell_type": "code",
   "execution_count": 12,
   "metadata": {},
   "outputs": [
    {
     "name": "stdout",
     "output_type": "stream",
     "text": [
      "1\n",
      "a\n",
      "a\n",
      "1\n"
     ]
    }
   ],
   "source": [
    "class Stack:\n",
    "    def __init__(self):\n",
    "        self.stack = []\n",
    "    \n",
    "    #--- Push element to stack\n",
    "    def push(self, elem):\n",
    "        self.stack.append(elem)\n",
    "    \n",
    "    #--- Pop element from stack\n",
    "    def pop(self):\n",
    "        if( len(self.stack) > 0 ):\n",
    "            return self.stack.pop()\n",
    "        else:\n",
    "            print(\"Stack empty\")\n",
    "            return None\n",
    "    \n",
    "    #--- Print all elements in stack\n",
    "    def printAll(self):\n",
    "        if( len(self.stack) > 0 ):\n",
    "            for ele in self.stack:\n",
    "                print(ele)\n",
    "        else:\n",
    "            print(\"Stack empty\")\n",
    "\n",
    "stack = Stack()\n",
    "stack.push(1)\n",
    "stack.push('a')\n",
    "stack.printAll()\n",
    "print(stack.pop())\n",
    "stack.printAll()\n",
    "        \n",
    "    "
   ]
  },
  {
   "cell_type": "code",
   "execution_count": null,
   "metadata": {},
   "outputs": [],
   "source": []
  }
 ],
 "metadata": {
  "kernelspec": {
   "display_name": "Python 3",
   "language": "python",
   "name": "python3"
  },
  "language_info": {
   "codemirror_mode": {
    "name": "ipython",
    "version": 3
   },
   "file_extension": ".py",
   "mimetype": "text/x-python",
   "name": "python",
   "nbconvert_exporter": "python",
   "pygments_lexer": "ipython3",
   "version": "3.5.2"
  }
 },
 "nbformat": 4,
 "nbformat_minor": 2
}
