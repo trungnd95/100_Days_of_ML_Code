{
 "cells": [
  {
   "cell_type": "markdown",
   "metadata": {},
   "source": [
    "# Learning Python From [Learn Python In Y Minutes](https://learnxinyminutes.com/docs/python3/)"
   ]
  },
  {
   "cell_type": "markdown",
   "metadata": {},
   "source": [
    "#### *Date:* 03/01/2019"
   ]
  },
  {
   "cell_type": "markdown",
   "metadata": {},
   "source": [
    "### 1. Primitive Datatypes and Operators"
   ]
  },
  {
   "cell_type": "code",
   "execution_count": 4,
   "metadata": {},
   "outputs": [
    {
     "data": {
      "text/plain": [
       "-2"
      ]
     },
     "execution_count": 4,
     "metadata": {},
     "output_type": "execute_result"
    }
   ],
   "source": [
    "# You have numbers\n",
    "3  # => 3\n",
    "\n",
    "# Math is what you would expect\n",
    "1 + 1   # => 2\n",
    "8 - 1   # => 7\n",
    "10 * 2  # => 20\n",
    "35 / 5  # => 7.0\n",
    "\n",
    "# Integer division rounds down for both positive and negative numbers.\n",
    "5 // 3       # => 1\n",
    "-5 // 3      # => -2\n",
    "5.0 // 3.0   # => 1.0 # works on floats too\n",
    "-5.0 // 3.0  # => -2.0\n",
    "\n",
    "# The result of division is always a float\n",
    "10.0 / 3  # => 3.3333333333333335\n",
    "\n",
    "# Modulo operation\n",
    "7 % 3  # => 1\n",
    "\n",
    "# Exponentiation (x**y, x to the yth power)\n",
    "2**3  # => 8\n",
    "\n",
    "# Enforce precedence with parentheses\n",
    "(1 + 3) * 2  # => 8\n",
    "\n",
    "# Boolean values are primitive (Note: Capitialization)\n",
    "True \n",
    "False\n",
    "# Opposite\n",
    "not True\n",
    "not False\n",
    "\n",
    "# Boolean Operators\n",
    "# Note \"and\" and \"or\" are case-sensitive\n",
    "True and False  # => False\n",
    "False or True   # => True\n",
    "\n",
    "# True and False are actually 1 and 0 but with different keywords\n",
    "True + True # => 2\n",
    "True * 8    # => 8\n",
    "False - 5   # => -5\n",
    "\n",
    "# Comparison operators look at the numerical value of True and False\n",
    "0 == False  # => True\n",
    "1 == True   # => True\n",
    "2 == True   # => False\n",
    "-5 != False # => True\n",
    "\n",
    "# Using boolean logical operators on ints casts them to booleans for evaluation, but their non-cast value is returned\n",
    "# Don't mix up with bool(ints) and bitwise and/or (&,|)\n",
    "bool(0)     # => False\n",
    "bool(4)     # => True\n",
    "bool(-6)    # => True\n",
    "0 and 2     # => 0\n",
    "-5 or 0     # => -5\n",
    "\n",
    "# Equality is ==\n",
    "1 == 1  # => True\n",
    "2 == 1  # => False\n",
    "\n",
    "# Inequality is !=\n",
    "1 != 1  # => False\n",
    "2 != 1  # => True\n",
    "\n",
    "# More comparisons\n",
    "1 < 10  # => True\n",
    "1 > 10  # => False\n",
    "2 <= 2  # => True\n",
    "2 >= 2  # => True\n",
    "\n",
    "# Seeing whether a value is in a range\n",
    "1 < 2 and 2 < 3  # => True\n",
    "2 < 3 and 3 < 2  # => False\n",
    "# Chaining makes this look nicer\n",
    "1 < 2 < 3  # => True\n",
    "2 < 3 < 2  # => False\n",
    "\n"
   ]
  },
  {
   "cell_type": "code",
   "execution_count": null,
   "metadata": {},
   "outputs": [],
   "source": []
  }
 ],
 "metadata": {
  "kernelspec": {
   "display_name": "Python 3",
   "language": "python",
   "name": "python3"
  },
  "language_info": {
   "codemirror_mode": {
    "name": "ipython",
    "version": 3
   },
   "file_extension": ".py",
   "mimetype": "text/x-python",
   "name": "python",
   "nbconvert_exporter": "python",
   "pygments_lexer": "ipython3",
   "version": "3.5.2"
  }
 },
 "nbformat": 4,
 "nbformat_minor": 2
}
