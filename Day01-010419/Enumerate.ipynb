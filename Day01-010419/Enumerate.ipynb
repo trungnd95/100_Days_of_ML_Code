{
 "cells": [
  {
   "cell_type": "markdown",
   "metadata": {},
   "source": [
    "## Enumerate"
   ]
  },
  {
   "cell_type": "markdown",
   "metadata": {},
   "source": [
    "_Form_: **enumerate(obj, starting_index)**\n",
    "obj: object which want enumerate\n",
    "starting_index: index for first element"
   ]
  },
  {
   "cell_type": "markdown",
   "metadata": {},
   "source": [
    "#### 1. Using enumerate to loop with index"
   ]
  },
  {
   "cell_type": "code",
   "execution_count": 1,
   "metadata": {},
   "outputs": [
    {
     "name": "stdout",
     "output_type": "stream",
     "text": [
      "[(0, 'Andy'), (1, 'Brochues'), (2, 'Cris')]\n"
     ]
    }
   ],
   "source": [
    "names = ['Andy', 'Brochues', 'Cris']\n",
    "indexed_names = []\n",
    "for i, name in enumerate(names):\n",
    "    indexed_names.append((i, name))\n",
    "print(indexed_names)"
   ]
  },
  {
   "cell_type": "markdown",
   "metadata": {},
   "source": [
    "#### 2. Using enumerate with list comprehension"
   ]
  },
  {
   "cell_type": "code",
   "execution_count": 6,
   "metadata": {},
   "outputs": [
    {
     "name": "stdout",
     "output_type": "stream",
     "text": [
      "[(0, 'Andy'), (1, 'Brochues'), (2, 'Cris')]\n"
     ]
    }
   ],
   "source": [
    "names = ['Andy', 'Brochues', 'Cris']\n",
    "indexed_names_1 = [(i, name) for i, name in enumerate(names)]\n",
    "print(indexed_names_1)"
   ]
  },
  {
   "cell_type": "markdown",
   "metadata": {},
   "source": [
    "####  3. Unpack an enumerate object with a starting index of one"
   ]
  },
  {
   "cell_type": "code",
   "execution_count": 9,
   "metadata": {},
   "outputs": [
    {
     "name": "stdout",
     "output_type": "stream",
     "text": [
      "[(0, 'Andy'), (1, 'Brochues'), (2, 'Cris')]\n"
     ]
    }
   ],
   "source": [
    "names = ['Andy', 'Brochues', 'Cris']\n",
    "unpacked_list = [*enumerate(names, 0)]\n",
    "print(unpacked_list)"
   ]
  },
  {
   "cell_type": "code",
   "execution_count": null,
   "metadata": {},
   "outputs": [],
   "source": []
  }
 ],
 "metadata": {
  "kernelspec": {
   "display_name": "Python 3",
   "language": "python",
   "name": "python3"
  },
  "language_info": {
   "codemirror_mode": {
    "name": "ipython",
    "version": 3
   },
   "file_extension": ".py",
   "mimetype": "text/x-python",
   "name": "python",
   "nbconvert_exporter": "python",
   "pygments_lexer": "ipython3",
   "version": "3.5.2"
  }
 },
 "nbformat": 4,
 "nbformat_minor": 2
}
