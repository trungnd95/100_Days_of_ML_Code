{
 "cells": [
  {
   "cell_type": "markdown",
   "metadata": {},
   "source": [
    "### Lambda functions"
   ]
  },
  {
   "cell_type": "code",
   "execution_count": 2,
   "metadata": {},
   "outputs": [
    {
     "data": {
      "text/plain": [
       "5"
      ]
     },
     "execution_count": 2,
     "metadata": {},
     "output_type": "execute_result"
    }
   ],
   "source": [
    "(lambda x, y: x ** 2 + y ** 2)(2, 1)"
   ]
  },
  {
   "cell_type": "code",
   "execution_count": 4,
   "metadata": {},
   "outputs": [],
   "source": [
    "values = [-x for x in [1, 2, 3, 4, 5]]"
   ]
  },
  {
   "cell_type": "code",
   "execution_count": 5,
   "metadata": {},
   "outputs": [
    {
     "data": {
      "text/plain": [
       "list"
      ]
     },
     "execution_count": 5,
     "metadata": {},
     "output_type": "execute_result"
    }
   ],
   "source": [
    "type(values)"
   ]
  },
  {
   "cell_type": "markdown",
   "metadata": {},
   "source": [
    "### Python OOP: Access modifiers\n",
    "> **Public**: do not have underscore at class variable <br/>\n",
    "  **Protected**: one underscore at class variable <br/>\n",
    "  **Private**: two underscores at class variable <br/>\n",
    "  "
   ]
  },
  {
   "cell_type": "markdown",
   "metadata": {},
   "source": [
    "#### Example"
   ]
  },
  {
   "cell_type": "code",
   "execution_count": 4,
   "metadata": {},
   "outputs": [
    {
     "data": {
      "text/plain": [
       "1"
      ]
     },
     "execution_count": 4,
     "metadata": {},
     "output_type": "execute_result"
    }
   ],
   "source": [
    "class Sample: \n",
    "    def __init__(self, a):\n",
    "        # public class property: a\n",
    "        self.a = a\n",
    "samp = Sample(1)\n",
    "samp.a"
   ]
  },
  {
   "cell_type": "code",
   "execution_count": 6,
   "metadata": {},
   "outputs": [
    {
     "data": {
      "text/plain": [
       "1"
      ]
     },
     "execution_count": 6,
     "metadata": {},
     "output_type": "execute_result"
    }
   ],
   "source": [
    "class Sample: \n",
    "    def __init__(self, a):\n",
    "        # protected class property a\n",
    "        self._a = a\n",
    "samp1 = Sample(1)\n",
    "samp1._a"
   ]
  },
  {
   "cell_type": "code",
   "execution_count": 9,
   "metadata": {},
   "outputs": [
    {
     "name": "stdout",
     "output_type": "stream",
     "text": [
      "can not directly access private variable from outside class 'Sample' object has no attribute '__a'\n"
     ]
    }
   ],
   "source": [
    "class Sample:\n",
    "    def __init__(self, a):\n",
    "        # Private class property a\n",
    "        self.__a = a\n",
    "try:\n",
    "    samp2 = Sample(2)\n",
    "    samp2.__a\n",
    "except Exception as e:\n",
    "    print(\"can not directly access private variable from outside class\", e)"
   ]
  },
  {
   "cell_type": "markdown",
   "metadata": {},
   "source": [
    "### OOP Getter, setter and property"
   ]
  },
  {
   "cell_type": "markdown",
   "metadata": {},
   "source": [
    "[Ref](https://www.datacamp.com/community/tutorials/property-getters-setters)"
   ]
  },
  {
   "cell_type": "markdown",
   "metadata": {},
   "source": [
    "> Getter and setter are born with aim to do OOP encapsulation. Control the property from any directly changes from outside class"
   ]
  },
  {
   "cell_type": "markdown",
   "metadata": {},
   "source": [
    "_Example_"
   ]
  },
  {
   "cell_type": "code",
   "execution_count": 12,
   "metadata": {},
   "outputs": [
    {
     "name": "stdout",
     "output_type": "stream",
     "text": [
      "10\n",
      "0\n"
     ]
    }
   ],
   "source": [
    "class Sample: \n",
    "    def __init__(self, a):\n",
    "        # private property. Cannot access directly from outside\n",
    "        self.__a = a\n",
    "    # Getter return value of private property\n",
    "    def get_a(self):\n",
    "        return self.__a\n",
    "    def set_a(self, val):\n",
    "        if val > 0:\n",
    "            self.__a = val\n",
    "        else:\n",
    "            self.__a = 0\n",
    "sam = Sample(10)\n",
    "print(sam.get_a())\n",
    "sam.set_a(-1)\n",
    "print(sam.get_a())"
   ]
  },
  {
   "cell_type": "markdown",
   "metadata": {},
   "source": [
    "> **Difference way using @property**\n",
    "\n"
   ]
  },
  {
   "cell_type": "markdown",
   "metadata": {},
   "source": [
    "The attribute name and the method name **must be the same**"
   ]
  },
  {
   "cell_type": "code",
   "execution_count": 13,
   "metadata": {},
   "outputs": [],
   "source": [
    "class Property:\n",
    "\n",
    "    def __init__(self, var):\n",
    "        ## initializing the attribute\n",
    "        self.a = var\n",
    "\n",
    "    @property\n",
    "    def a(self):\n",
    "        return self.__a\n",
    "\n",
    "    ## the attribute name and the method name must be same which is used to set the value for the attribute\n",
    "    @a.setter\n",
    "    def a(self, var):\n",
    "        if var > 0 and var % 2 == 0:\n",
    "            self.__a = var\n",
    "        else:\n",
    "            self.__a = 2"
   ]
  },
  {
   "cell_type": "code",
   "execution_count": 15,
   "metadata": {},
   "outputs": [],
   "source": [
    "class AnotherWay:\n",
    "\n",
    "    def __init__(self, var):\n",
    "        ## calling the set_a() method to set the value 'a' by checking certain conditions\n",
    "        self.set_a(var)\n",
    "\n",
    "    ## getter method to get the properties using an object\n",
    "    def get_a(self):\n",
    "        return self.__a\n",
    "\n",
    "    ## setter method to change the value 'a' using an object\n",
    "    def set_a(self, var):\n",
    "\n",
    "        ## condition to check whether var is suitable or not\n",
    "        if var > 0 and var % 2 == 0:\n",
    "            self.__a = var\n",
    "        else:\n",
    "            self.__a = 2\n",
    "\n",
    "    a = property(get_a, set_a)"
   ]
  },
  {
   "cell_type": "code",
   "execution_count": 17,
   "metadata": {},
   "outputs": [
    {
     "data": {
      "text/plain": [
       "10"
      ]
     },
     "execution_count": 17,
     "metadata": {},
     "output_type": "execute_result"
    }
   ],
   "source": [
    "ano = AnotherWay(10)\n",
    "ano.a"
   ]
  },
  {
   "cell_type": "code",
   "execution_count": null,
   "metadata": {},
   "outputs": [],
   "source": []
  }
 ],
 "metadata": {
  "kernelspec": {
   "display_name": "Python 3",
   "language": "python",
   "name": "python3"
  },
  "language_info": {
   "codemirror_mode": {
    "name": "ipython",
    "version": 3
   },
   "file_extension": ".py",
   "mimetype": "text/x-python",
   "name": "python",
   "nbconvert_exporter": "python",
   "pygments_lexer": "ipython3",
   "version": "3.7.1"
  }
 },
 "nbformat": 4,
 "nbformat_minor": 2
}
