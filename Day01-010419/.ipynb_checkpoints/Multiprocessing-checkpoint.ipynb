{
 "cells": [
  {
   "cell_type": "markdown",
   "metadata": {},
   "source": [
    "# Python multiprocessing"
   ]
  },
  {
   "cell_type": "code",
   "execution_count": 14,
   "metadata": {},
   "outputs": [
    {
     "name": "stdout",
     "output_type": "stream",
     "text": [
      "Spawned - 0\n",
      "Spawned - 1\n",
      "Spawned - 2\n",
      "Spawned - 3\n",
      "Spawned - 4\n",
      "Spawned - 5\n",
      "Spawned - 6\n",
      "Spawned - 7\n",
      "Spawned - 8\n",
      "Spawned - 9\n"
     ]
    }
   ],
   "source": [
    "import multiprocessing\n",
    "\n",
    "def spawn(seq):\n",
    "    print('Spawned - {}'.format(seq))\n",
    "\n",
    "if __name__ == '__main__':\n",
    "    for i in range(10):\n",
    "        p = multiprocessing.Process(target=spawn, args=(i, ))\n",
    "        p.start()\n",
    "        p.join()"
   ]
  },
  {
   "cell_type": "markdown",
   "metadata": {},
   "source": [
    "As we all know that Python is single threaded. Even if you use threading, Python runs on a single CPU. If you monitor your CPU %, you might see that you're only using 10 or 15%, instead of the desired 100%, or at least close to it."
   ]
  },
  {
   "cell_type": "markdown",
   "metadata": {},
   "source": [
    "As example above, we saw that the output printed in order. It seems like this script only run on a single CPU. WHY? It cause by **join()**.  It's waiting for the process to end."
   ]
  },
  {
   "cell_type": "code",
   "execution_count": 12,
   "metadata": {},
   "outputs": [
    {
     "name": "stdout",
     "output_type": "stream",
     "text": [
      "Spawn # 0\n",
      "Spawn # 1\n",
      "Spawn # 2\n",
      "Spawn # 3\n",
      "Spawn # 4\n",
      "Spawn # 5\n",
      "Spawn # 6\n",
      "Spawn # 7\n",
      "Spawn # 8\n",
      "Spawn # 9\n"
     ]
    }
   ],
   "source": [
    "import multiprocessing\n",
    "\n",
    "def spawn(num):\n",
    "    print('Spawn # {}'.format(num))\n",
    "\n",
    "if __name__ == '__main__':\n",
    "    for i in range(10):\n",
    "        p = multiprocessing.Process(target=spawn, args=(i,))\n",
    "        p.start()"
   ]
  },
  {
   "cell_type": "markdown",
   "metadata": {},
   "source": [
    "If these processes are fine to act on their own, without communicating with eachother or back to the main program, then this is fine. These processes can also share a common database, or something like that to work together, but, many times, it will make more sense to use multiprocessing to do some processing, and then return results back to the main program. "
   ]
  },
  {
   "cell_type": "code",
   "execution_count": 13,
   "metadata": {},
   "outputs": [
    {
     "name": "stdout",
     "output_type": "stream",
     "text": [
      "[0, 2, 4, 6, 8, 10, 12, 14, 16, 18, 20, 22, 24, 26, 28, 30, 32, 34, 36, 38]\n"
     ]
    }
   ],
   "source": [
    "from multiprocessing import Pool\n",
    "def job(num):\n",
    "    return num * 2\n",
    "if __name__ == '__main__':\n",
    "    p = Pool(processes=20)\n",
    "    data = p.map(job, [i for i in range(20)])\n",
    "    p.close()\n",
    "    print(data)"
   ]
  },
  {
   "cell_type": "code",
   "execution_count": null,
   "metadata": {},
   "outputs": [],
   "source": []
  }
 ],
 "metadata": {
  "kernelspec": {
   "display_name": "Python 3",
   "language": "python",
   "name": "python3"
  },
  "language_info": {
   "codemirror_mode": {
    "name": "ipython",
    "version": 3
   },
   "file_extension": ".py",
   "mimetype": "text/x-python",
   "name": "python",
   "nbconvert_exporter": "python",
   "pygments_lexer": "ipython3",
   "version": "3.7.1"
  }
 },
 "nbformat": 4,
 "nbformat_minor": 2
}
