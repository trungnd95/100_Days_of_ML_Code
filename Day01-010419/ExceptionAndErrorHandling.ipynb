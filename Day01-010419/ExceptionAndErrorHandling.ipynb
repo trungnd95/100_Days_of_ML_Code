{
 "cells": [
  {
   "cell_type": "markdown",
   "metadata": {},
   "source": [
    "## Exception and Error Handling\n",
    "\n",
    "\n",
    "Errors can be of two types:\n",
    "- Syntax errors\n",
    "- Errors which are encountered at runtime (Exception)"
   ]
  },
  {
   "cell_type": "markdown",
   "metadata": {},
   "source": [
    "Some common Python built-in exceptions:\n",
    "\n",
    "Exception class | Event\n",
    "--- | ---\n",
    "Exception | Base class for all exception\n",
    "ArithmeticError\t| Raised when numeric calculations fails\n",
    "FloatingPointError | Raised when a floating point calculation fails\n",
    "ZeroDivisionError | Raised when division or modulo by zero takes place for all numeric types\n",
    "AssertionError | Raised when Assert statement fails\n",
    "OverflowError | Raised when result of an arithmetic operation is too large to be represented\n",
    "\n",
    "[For more](https://www.datacamp.com/community/tutorials/exception-handling-python)"
   ]
  },
  {
   "cell_type": "markdown",
   "metadata": {},
   "source": [
    "####  Examples\n"
   ]
  },
  {
   "cell_type": "markdown",
   "metadata": {},
   "source": [
    "1. ArithmeticError Exception\n",
    "> is the base class for all arithmetic exceptions which are raised for errors in arithmetic operations"
   ]
  },
  {
   "cell_type": "code",
   "execution_count": 1,
   "metadata": {},
   "outputs": [
    {
     "name": "stdout",
     "output_type": "stream",
     "text": [
      "Exception: division by zero\n"
     ]
    }
   ],
   "source": [
    "try:\n",
    "    a = 10 / 0\n",
    "except ArithmeticError: \n",
    "    print(\"Exception: division by zero\")"
   ]
  },
  {
   "cell_type": "markdown",
   "metadata": {},
   "source": [
    "2. AssertionError \n",
    "> is raised by a failed assert statement. "
   ]
  },
  {
   "cell_type": "markdown",
   "metadata": {},
   "source": [
    "In the program below, the value of 2 variables is compared to check if they are equal or not. The assert statement raises an exception when the expression returns false. Since values are not equal in this example an exception will be raised."
   ]
  },
  {
   "cell_type": "code",
   "execution_count": 4,
   "metadata": {},
   "outputs": [
    {
     "name": "stdout",
     "output_type": "stream",
     "text": [
      "Assertion between a and b error\n"
     ]
    }
   ],
   "source": [
    "try: \n",
    "    a = 10\n",
    "    b = 20\n",
    "    assert a == b\n",
    "except AssertionError: \n",
    "    print( \"Assertion between a and b error\")"
   ]
  },
  {
   "cell_type": "markdown",
   "metadata": {},
   "source": [
    "3. IndexError\n",
    "> An IndexError exception is raised when you refer a sequence which is out of range"
   ]
  },
  {
   "cell_type": "code",
   "execution_count": 6,
   "metadata": {},
   "outputs": [
    {
     "name": "stdout",
     "output_type": "stream",
     "text": [
      "list index out of range\n"
     ]
    }
   ],
   "source": [
    "try: \n",
    "    a = [1, 2, 3]\n",
    "    print( a[3])\n",
    "except IndexError as e:\n",
    "    print(e)"
   ]
  },
  {
   "cell_type": "markdown",
   "metadata": {},
   "source": [
    "4. KeyError\n",
    "> When a **key** is not found in a **dictionary**, a KeyError exception is raised."
   ]
  },
  {
   "cell_type": "code",
   "execution_count": 10,
   "metadata": {},
   "outputs": [
    {
     "name": "stdout",
     "output_type": "stream",
     "text": [
      "Dic does not contain key\n"
     ]
    }
   ],
   "source": [
    "try: \n",
    "    dic = { 'a': 1, 'b': 2 }\n",
    "    print(dic['c'])\n",
    "except KeyError as e: \n",
    "    print('Dic does not contain key')"
   ]
  },
  {
   "cell_type": "markdown",
   "metadata": {},
   "source": [
    "5. ValueError\n",
    "> A ValueError is raised when a function receives a value that has the right type but an invalid value"
   ]
  },
  {
   "cell_type": "code",
   "execution_count": 11,
   "metadata": {},
   "outputs": [
    {
     "name": "stdout",
     "output_type": "stream",
     "text": [
      "invalid literal for int() with base 10: 'a'\n"
     ]
    }
   ],
   "source": [
    "try: \n",
    "    print(int('a'))\n",
    "except ValueError as e: \n",
    "    print(e)"
   ]
  },
  {
   "cell_type": "markdown",
   "metadata": {},
   "source": [
    "### Handling Exception Syntax in general"
   ]
  },
  {
   "cell_type": "markdown",
   "metadata": {},
   "source": [
    "try:\n",
    "\n",
    "    You do your operations here;\n",
    "\n",
    "except Exception1: \n",
    "\n",
    "    If there is Exception1, then execute this block.\n",
    "\n",
    "except Exception2:\n",
    "\n",
    "    If there is Exception2, then execute this block."
   ]
  },
  {
   "cell_type": "markdown",
   "metadata": {},
   "source": [
    "### Except class with multiple exceptions\n"
   ]
  },
  {
   "cell_type": "code",
   "execution_count": 12,
   "metadata": {},
   "outputs": [
    {
     "name": "stdout",
     "output_type": "stream",
     "text": [
      "Please check the file,either the file is read-only or the data can't be converted to an integer. 2\n"
     ]
    }
   ],
   "source": [
    "try:\n",
    "    fp = open('myfile.txt')\n",
    "    line = f.readline()\n",
    "    i = int(s.strip())\n",
    "except (IOError,ValueError) as e:\n",
    "    print (\"Please check the file,either the file is read-only or the data can't be converted to an integer.\",e.errno)\n",
    "except:        #Note the use of except here,without any exception class, this can be used to handle all exception classes.\n",
    "    print (\"Unexpected error\")"
   ]
  },
  {
   "cell_type": "markdown",
   "metadata": {},
   "source": [
    "### try-finally clause\n"
   ]
  },
  {
   "cell_type": "markdown",
   "metadata": {},
   "source": [
    "The try statement in Python can have an optional finally clause. In case if there is any code which you want to be executed, whether exception occurs or not, then that code can be placed inside the finally block. When an exception occurs, the control immediately goes to finally block and all the lines in finally block gets executed first. After that the control goes to except block to handle exception. \n",
    "\n",
    "**Finally** is statement which is always ran through at final even exceptions happen or not"
   ]
  },
  {
   "cell_type": "code",
   "execution_count": 15,
   "metadata": {},
   "outputs": [
    {
     "name": "stdout",
     "output_type": "stream",
     "text": [
      "Closing the file\n",
      "allways run heere\n"
     ]
    }
   ],
   "source": [
    "try:\n",
    "   fh = open(\"test\", \"w\")\n",
    "   try:\n",
    "      fh.write(\"Test file!!\")\n",
    "   finally:\n",
    "      print (\"Closing the file\")\n",
    "      fh.close()\n",
    "except IOError:\n",
    "   print (\"Error: File not found or is read-only\" )\n",
    "finally: \n",
    "    print('allways run heere')"
   ]
  },
  {
   "cell_type": "markdown",
   "metadata": {},
   "source": [
    "### Python custom exceptions"
   ]
  },
  {
   "cell_type": "markdown",
   "metadata": {},
   "source": [
    "Python has a bunch of built-in exceptions. But sometimes we need create custom exceptions with custom messages.\n",
    "We can do that by create new class which will be derived from the pre-defined Exception class in Python."
   ]
  },
  {
   "cell_type": "code",
   "execution_count": 3,
   "metadata": {},
   "outputs": [
    {
     "name": "stdout",
     "output_type": "stream",
     "text": [
      "Enter Total Marks Scored: 1\n",
      "Enter Num of Sections: 2\n"
     ]
    }
   ],
   "source": [
    "class UnAcceptedValueError(Exception):   \n",
    "    def __init__(self, data):    \n",
    "        self.data = data\n",
    "    def __str__(self):\n",
    "        return repr(self.data)\n",
    "\n",
    "Total_Marks = int(input(\"Enter Total Marks Scored: \"))\n",
    "try:\n",
    "    Num_of_Sections = int(input(\"Enter Num of Sections: \"))\n",
    "    if(Num_of_Sections < 1):\n",
    "        raise UnAcceptedValueError(\"Number of Sections can't be less than 1\")\n",
    "except UnAcceptedValueError as e:\n",
    "    print (\"Received error:\", e)"
   ]
  },
  {
   "cell_type": "code",
   "execution_count": null,
   "metadata": {
    "collapsed": true
   },
   "outputs": [],
   "source": []
  }
 ],
 "metadata": {
  "kernelspec": {
   "display_name": "Python 3",
   "language": "python",
   "name": "python3"
  },
  "language_info": {
   "codemirror_mode": {
    "name": "ipython",
    "version": 3
   },
   "file_extension": ".py",
   "mimetype": "text/x-python",
   "name": "python",
   "nbconvert_exporter": "python",
   "pygments_lexer": "ipython3",
   "version": "3.5.2"
  }
 },
 "nbformat": 4,
 "nbformat_minor": 2
}
