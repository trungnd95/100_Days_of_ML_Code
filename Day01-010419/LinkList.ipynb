{
 "cells": [
  {
   "cell_type": "markdown",
   "metadata": {},
   "source": [
    "# Link List"
   ]
  },
  {
   "cell_type": "markdown",
   "metadata": {},
   "source": [
    "### 1. Node concept"
   ]
  },
  {
   "cell_type": "markdown",
   "metadata": {},
   "source": [
    "![](https://camo.githubusercontent.com/65fe2324d4ba228712849e4086739c8e92e858ba/68747470733a2f2f6c68332e676f6f676c6575736572636f6e74656e742e636f6d2f544377503955456b4c624437395a66506f516b5a34527a556c437434643443736542355a575f776b444b726179775176655a5a673673343162764135317271534d67646446426e4a46306e516d4c563244344b796f39622d66483139356d51473536487374474864446f626b654552494247556c4c78474e77455542786f67783957754b6b79776864696c2d41776d6655497a6f304468623453355a637251696151665370577871536b31777776574f586c524739416566374830535531417378415f36695a74396e4f464636615f3466454a76786a634a4152664736534c7a6a7675385076463142675f685a586e72796a78346a6e4141595261547a654f69365942756d755a46365574656e4d752d5a68656b4e5577766b4755346a614a5a5a5332767a6f4d5a652d62366f67313846364c5f68345f542d36436376796d326f526d645436334547546c523342762d6e7a36554c553854757243423076654b72385075387865657447773943756f6e4731454a496f53775771692d4c4d6d32487467466568465f5a4a6632676d5465765436564d356f485f5052386f657a4d41415a3363734b78387971305f4e704f7151437a2d714656396d563161456f68304f624631345073655078774139454a5a477a74677643777048466f7a766372556f704830683576755246316f6b346a5439473152544730636e52575668564e77412d4b364b44586f306c66535976352d7a41515f5f787a663143635a315a574853586e516754665a724474475a48653250786d4573626e466b2d3630575a5067627a526156325a717a545075433569755f3231363853616c77674737435369383479414b74724e4f464979767077335a566f615132784d6b55495331555a454f4c6a4270637a7659756c6550693651614e6c477546666649696f43374474644f673d773830302d683430302d6e6f \"Node visualization\")"
   ]
  },
  {
   "cell_type": "markdown",
   "metadata": {},
   "source": [
    "Node contains 2 components:\n",
    "    - Its value\n",
    "    - Ref to the next one"
   ]
  },
  {
   "cell_type": "code",
   "execution_count": 2,
   "metadata": {},
   "outputs": [],
   "source": [
    "class NodeEle:\n",
    "    def __init__(self, val): \n",
    "        self.value = val\n",
    "        self.nextNode = None"
   ]
  },
  {
   "cell_type": "markdown",
   "metadata": {},
   "source": [
    "### 2. LinkList Definition"
   ]
  },
  {
   "cell_type": "markdown",
   "metadata": {},
   "source": [
    "> A linked list is a sequence of data elements, which are connected together via links. \n",
    "Each data element contains a connection to another data element in form of a pointer. \n",
    "Python does not have linked lists in its standard library. "
   ]
  },
  {
   "cell_type": "code",
   "execution_count": 3,
   "metadata": {},
   "outputs": [
    {
     "name": "stdout",
     "output_type": "stream",
     "text": [
      "Node value: 1\n",
      "Node value: 1\n",
      "Node value: 2\n",
      "Node value: 1\n",
      "Node value: 2\n",
      "Node value: 3\n"
     ]
    }
   ],
   "source": [
    "class NodeEle:\n",
    "    def __init__(self, val): \n",
    "        self.value = val\n",
    "        self.nextNode = None\n",
    "class LinkListNodes:\n",
    "    def __init__(self, firstNode=None):\n",
    "        self.head = firstNode\n",
    "    def addNode(self, nodeAdded):\n",
    "        if isinstance(nodeAdded, NodeEle):\n",
    "            if(self.head is None ):\n",
    "                self.head = nodeAdded\n",
    "            else:\n",
    "                currentNode = self.head\n",
    "                while currentNode: \n",
    "                    if( currentNode.nextNode is None ):\n",
    "                        currentNode.nextNode = nodeAdded\n",
    "                        break\n",
    "                    else:\n",
    "                        currentNode = currentNode.nextNode\n",
    "        else: \n",
    "            raise ValueError(\"This is not appropriate input type\")\n",
    "    def printLinkList(self):\n",
    "        currentNode = self.head\n",
    "        while currentNode: \n",
    "            print(\"Node value: {}\".format(currentNode.value))\n",
    "            currentNode = currentNode.nextNode\n",
    "            \n",
    "node1 = NodeEle(1)\n",
    "node2 = NodeEle(2)\n",
    "node3 = NodeEle(3)\n",
    "list = LinkListNodes()\n",
    "list.addNode(node1)\n",
    "list.printLinkList()\n",
    "list.addNode(node2)\n",
    "list.printLinkList()\n",
    "list.addNode(node3)\n",
    "list.printLinkList()"
   ]
  }
 ],
 "metadata": {
  "kernelspec": {
   "display_name": "Python 3",
   "language": "python",
   "name": "python3"
  },
  "language_info": {
   "codemirror_mode": {
    "name": "ipython",
    "version": 3
   },
   "file_extension": ".py",
   "mimetype": "text/x-python",
   "name": "python",
   "nbconvert_exporter": "python",
   "pygments_lexer": "ipython3",
   "version": "3.5.2"
  }
 },
 "nbformat": 4,
 "nbformat_minor": 2
}
