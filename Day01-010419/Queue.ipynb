{
 "cells": [
  {
   "cell_type": "markdown",
   "metadata": {},
   "source": [
    "# Queue"
   ]
  },
  {
   "cell_type": "markdown",
   "metadata": {},
   "source": [
    "> Queue operation follows by FIFO (First In First Out) mechanism"
   ]
  },
  {
   "cell_type": "markdown",
   "metadata": {},
   "source": [
    "### Queue definition "
   ]
  },
  {
   "cell_type": "code",
   "execution_count": 1,
   "metadata": {},
   "outputs": [
    {
     "name": "stdout",
     "output_type": "stream",
     "text": [
      "a\n"
     ]
    }
   ],
   "source": [
    "class Queue:\n",
    "    \n",
    "    def __init__(self):\n",
    "        self.queue = []\n",
    "        \n",
    "    #------ Insert an element to queue\n",
    "    def enqueue(self, elem):\n",
    "        self.queue.append(elem)\n",
    "    \n",
    "    #------ Remove an element from queue \n",
    "    def dequeue(self):\n",
    "        if len( self.queue ) > 0:\n",
    "            return self.queue.pop(0)\n",
    "        else:\n",
    "            print(\"Queue is empty\")\n",
    "            return None\n",
    "    \n",
    "que = Queue()\n",
    "que.enqueue(\"a\")\n",
    "que.enqueue(\"b\")\n",
    "print(que.dequeue())\n"
   ]
  }
 ],
 "metadata": {
  "kernelspec": {
   "display_name": "Python 3",
   "language": "python",
   "name": "python3"
  },
  "language_info": {
   "codemirror_mode": {
    "name": "ipython",
    "version": 3
   },
   "file_extension": ".py",
   "mimetype": "text/x-python",
   "name": "python",
   "nbconvert_exporter": "python",
   "pygments_lexer": "ipython3",
   "version": "3.5.2"
  }
 },
 "nbformat": 4,
 "nbformat_minor": 2
}
